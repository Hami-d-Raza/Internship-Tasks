{
 "cells": [
  {
   "cell_type": "markdown",
   "id": "43eab0d7",
   "metadata": {},
   "source": [
    "# Task 2: Credit Risk Prediction\n",
    "\n",
    "## Introduction and Problem Statement\n",
    "The goal of this project is to predict whether a loan application will be approved, based on applicant details such as income, credit history, education, and other features. This type of model can be useful for financial institutions in assessing credit risk."
   ]
  },
  {
   "cell_type": "code",
   "execution_count": null,
   "id": "7009df2a",
   "metadata": {},
   "outputs": [],
   "source": [
    "import pandas as pd\n",
    "import numpy as np\n",
    "import matplotlib.pyplot as plt\n",
    "import seaborn as sns\n",
    "\n",
    "from sklearn.model_selection import train_test_split  # Split data into training and testing sets\n",
    "from sklearn.preprocessing import LabelEncoder, StandardScaler  # Encode categorical text values to numbers\n",
    "from sklearn.linear_model import LogisticRegression  # Initialize logistic regression model\n",
    "from sklearn.metrics import (accuracy_score, confusion_matrix, ConfusionMatrixDisplay,  # Calculate model accuracy\n",
    "                             classification_report)  # Detailed classification performance metrics\n",
    "\n",
    "# Load dataset\n",
    "df = pd.read_csv('loan_prediction.csv')  # Load dataset from CSV\n",
    "print(\"Dataset shape:\", df.shape)\n",
    "df.head()"
   ]
  },
  {
   "cell_type": "code",
   "execution_count": null,
   "id": "d76bdb7e",
   "metadata": {},
   "outputs": [],
   "source": [
    "df.info()  # Display column info and data types\n",
    "df.describe()  # Summary statistics of numerical columns\n",
    "print(\"\\nMissing values:\\n\", df.isnull().sum())  # Count of missing values per column"
   ]
  },
  {
   "cell_type": "markdown",
   "id": "a92ff1fe",
   "metadata": {},
   "source": [
    "## Data Cleaning and Preparation"
   ]
  },
  {
   "cell_type": "code",
   "execution_count": null,
   "id": "4deb04b9",
   "metadata": {},
   "outputs": [],
   "source": [
    "# Fill missing categorical values with mode\n",
    "for col in ['Gender', 'Married', 'Dependents', 'Self_Employed', 'Credit_History', 'Loan_Amount_Term']:\n",
    "    df[col].fillna(df[col].mode()[0], inplace=True)  # Fill missing values\n",
    "\n",
    "# Fill numerical missing values with median\n",
    "df['LoanAmount'].fillna(df['LoanAmount'].median(), inplace=True)  # Fill missing values\n",
    "\n",
    "# Drop rows with missing target values\n",
    "df.dropna(subset=['Loan_Status'], inplace=True)  # Drop rows where target variable is missing\n",
    "print(\"\\nMissing values after cleaning:\\n\", df.isnull().sum())  # Count of missing values per column"
   ]
  },
  {
   "cell_type": "markdown",
   "id": "fbae5a5b",
   "metadata": {},
   "source": [
    "## Exploratory Data Analysis (EDA)"
   ]
  },
  {
   "cell_type": "code",
   "execution_count": null,
   "id": "acf5e425",
   "metadata": {},
   "outputs": [],
   "source": [
    "# Loan amount distribution\n",
    "sns.histplot(df['LoanAmount'], kde=True)  # Histogram with KDE for distribution\n",
    "plt.title('Loan Amount Distribution')\n",
    "plt.show()\n",
    "\n",
    "# Education vs Loan Status\n",
    "sns.countplot(x='Education', hue='Loan_Status', data=df)  # Count plot for categorical comparison\n",
    "plt.title('Education vs Loan Status')\n",
    "plt.show()\n",
    "\n",
    "# Applicant income distribution\n",
    "sns.histplot(df['ApplicantIncome'], kde=True)  # Histogram with KDE for distribution\n",
    "plt.title('Applicant Income Distribution')\n",
    "plt.show()\n",
    "\n",
    "# Correlation heatmap\n",
    "plt.figure(figsize=(10, 8))\n",
    "sns.heatmap(df.corr(), annot=True, cmap='coolwarm')  # Heatmap to visualize feature correlations\n",
    "plt.title('Feature Correlation')\n",
    "plt.show()"
   ]
  },
  {
   "cell_type": "markdown",
   "id": "3254d750",
   "metadata": {},
   "source": [
    "## Data Encoding and Feature Scaling"
   ]
  },
  {
   "cell_type": "code",
   "execution_count": null,
   "id": "87503e8f",
   "metadata": {},
   "outputs": [],
   "source": [
    "le = LabelEncoder()  # Encode categorical text values to numbers\n",
    "for col in df.select_dtypes(include='object').columns:\n",
    "    df[col] = le.fit_transform(df[col])\n",
    "\n",
    "X = df.drop(['Loan_ID', 'Loan_Status'], axis=1)\n",
    "y = df['Loan_Status']\n",
    "\n",
    "scaler = StandardScaler()  # Standardize features\n",
    "X_scaled = scaler.fit_transform(X)\n",
    "\n",
    "X_train, X_test, y_train, y_test = train_test_split(X_scaled, y, test_size=0.2, random_state=42)  # Split data into training and testing sets"
   ]
  },
  {
   "cell_type": "markdown",
   "id": "1fe6135a",
   "metadata": {},
   "source": [
    "## Model Training"
   ]
  },
  {
   "cell_type": "code",
   "execution_count": null,
   "id": "86a33cab",
   "metadata": {},
   "outputs": [],
   "source": [
    "model = LogisticRegression(max_iter=2000)  # Initialize logistic regression model\n",
    "model.fit(X_train, y_train)  # Train the model"
   ]
  },
  {
   "cell_type": "markdown",
   "id": "031730b6",
   "metadata": {},
   "source": [
    "## Model Evaluation"
   ]
  },
  {
   "cell_type": "code",
   "execution_count": null,
   "id": "42383d18",
   "metadata": {},
   "outputs": [],
   "source": [
    "y_pred = model.predict(X_test)  # Predict on test data\n",
    "accuracy = accuracy_score(y_test, y_pred)  # Calculate model accuracy\n",
    "print(\"Model Accuracy:\", accuracy)\n",
    "\n",
    "# Confusion Matrix\n",
    "cm = confusion_matrix(y_test, y_pred)\n",
    "disp = ConfusionMatrixDisplay(confusion_matrix=cm)  # Display confusion matrix\n",
    "disp.plot(cmap='Blues')\n",
    "plt.title(\"Confusion Matrix\")\n",
    "plt.show()\n",
    "\n",
    "# Classification Report\n",
    "print(\"Classification Report:\\n\", classification_report(y_test, y_pred))  # Detailed classification performance metrics"
   ]
  },
  {
   "cell_type": "markdown",
   "id": "a7de018d",
   "metadata": {},
   "source": [
    "## Conclusion\n",
    "- The logistic regression model achieved a reasonable accuracy.\n",
    "- Education, Applicant Income, and Credit History showed significant correlation with loan approval.\n",
    "- Further improvements could include trying other classification models, feature engineering, and hyperparameter tuning."
   ]
  }
 ],
 "metadata": {},
 "nbformat": 4,
 "nbformat_minor": 5
}
