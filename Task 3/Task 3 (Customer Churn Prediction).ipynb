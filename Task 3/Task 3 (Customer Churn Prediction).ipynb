{
 "cells": [
  {
   "cell_type": "markdown",
   "id": "63e03790",
   "metadata": {},
   "source": [
    "\n",
    "# 📊 Task 3: Customer Churn Prediction\n",
    "\n",
    "## 📝 Introduction and Problem Statement\n",
    "This project involves predicting customer churn for a bank using structured data. \n",
    "The dataset contains features such as customer demographics, account information, and transactional behavior.\n",
    "The objective is to classify whether a customer will exit (churn) or not based on these attributes.\n",
    "We'll perform data cleaning, exploratory data analysis (EDA), model training, and evaluation.\n"
   ]
  },
  {
   "cell_type": "code",
   "execution_count": null,
   "id": "e392d696",
   "metadata": {},
   "outputs": [],
   "source": [
    "\n",
    "# Step 1: Import Libraries\n",
    "# Import necessary libraries for data handling and visualization\n",
    "import pandas as pd\n",
    "import matplotlib.pyplot as plt  # For plotting\n",
    "import seaborn as sns  # For statistical data visualization\n",
    "# Import machine learning modules\n",
    "from sklearn.model_selection import train_test_split\n",
    "from sklearn.preprocessing import LabelEncoder  # For encoding categorical variables\n",
    "from sklearn.ensemble import RandomForestClassifier  # Random Forest model\n",
    "from sklearn.metrics import confusion_matrix, classification_report, accuracy_score  # Evaluation metrics\n"
   ]
  },
  {
   "cell_type": "code",
   "execution_count": null,
   "id": "e4cd42e4",
   "metadata": {},
   "outputs": [],
   "source": [
    "\n",
    "# Step 2: Load Dataset\n",
    "# Load the dataset from the CSV file into a pandas DataFrame\n",
    "file_path = \"Churn_Modelling.csv\"  # Modify as needed\n",
    "df = pd.read_csv(file_path)\n",
    "# Display the first few rows to inspect the data structure\n",
    "print(df.head())\n"
   ]
  },
  {
   "cell_type": "code",
   "execution_count": null,
   "id": "ba2c88c5",
   "metadata": {},
   "outputs": [],
   "source": [
    "\n",
    "# Step 2.1: Dataset Overview\n",
    "print(\"Shape:\", df.shape)\n",
    "print(\"\\nColumns:\", df.columns.tolist())\n",
    "print(\"\\nFirst 5 rows:\")\n",
    "print(df.head())\n",
    "\n",
    "print(\"\\nInfo:\")\n",
    "print(df.info())\n",
    "\n",
    "print(\"\\nMissing values:\")\n",
    "print(df.isnull().sum())\n"
   ]
  },
  {
   "cell_type": "code",
   "execution_count": null,
   "id": "77442798",
   "metadata": {},
   "outputs": [],
   "source": [
    "\n",
    "# Step 3: Clean and Prepare Data\n",
    "df.drop([\"RowNumber\", \"CustomerId\", \"Surname\"], axis=1, inplace=True)\n",
    "\n",
    "# Encode 'Gender' column\n",
    "le = LabelEncoder()\n",
    "df['Gender'] = le.fit_transform(df['Gender'])  # Male:1, Female:0\n",
    "\n",
    "# One-hot encode 'Geography' column\n",
    "df = pd.get_dummies(df, columns=['Geography'], drop_first=True)\n"
   ]
  },
  {
   "cell_type": "code",
   "execution_count": null,
   "id": "5258f3bd",
   "metadata": {},
   "outputs": [],
   "source": [
    "\n",
    "# Step 3.1: Exploratory Data Analysis (EDA)\n",
    "# Histogram for numerical features\n",
    "df.hist(figsize=(12, 10), bins=20, edgecolor='black')\n",
    "plt.tight_layout()\n",
    "plt.suptitle(\"Histograms of Features\", y=1.02)\n",
    "plt.show()\n",
    "\n",
    "# Correlation heatmap\n",
    "plt.figure(figsize=(12, 8))\n",
    "sns.heatmap(df.corr(), annot=True, cmap=\"coolwarm\", fmt=\".2f\")\n",
    "plt.title(\"Feature Correlation Heatmap\")\n",
    "plt.show()\n"
   ]
  },
  {
   "cell_type": "code",
   "execution_count": null,
   "id": "4c635ca7",
   "metadata": {},
   "outputs": [],
   "source": [
    "\n",
    "# Step 4: Split Features and Target\n",
    "X = df.drop('Exited', axis=1)\n",
    "y = df['Exited']\n",
    "\n",
    "# Train-test split\n",
    "X_train, X_test, y_train, y_test = train_test_split(X, y, test_size=0.2, random_state=42)\n",
    "\n",
    "# Step 5: Train Classification Model\n",
    "model = RandomForestClassifier(n_estimators=100, random_state=42)\n",
    "model.fit(X_train, y_train)\n",
    "\n",
    "# Step 6: Make Predictions\n",
    "y_pred = model.predict(X_test)\n"
   ]
  },
  {
   "cell_type": "code",
   "execution_count": null,
   "id": "a210cd55",
   "metadata": {},
   "outputs": [],
   "source": [
    "\n",
    "# Step 7: Evaluation\n",
    "print(\"Confusion Matrix:\")\n",
    "print(confusion_matrix(y_test, y_pred))\n",
    "print(\"\\nClassification Report:\")\n",
    "print(classification_report(y_test, y_pred))\n",
    "print(\"Accuracy Score:\", accuracy_score(y_test, y_pred))\n"
   ]
  },
  {
   "cell_type": "code",
   "execution_count": null,
   "id": "25471478",
   "metadata": {},
   "outputs": [],
   "source": [
    "\n",
    "# Step 8: Feature Importance\n",
    "importances = pd.Series(model.feature_importances_, index=X.columns).sort_values(ascending=False)\n",
    "\n",
    "# Plot feature importance\n",
    "plt.figure(figsize=(10, 6))\n",
    "sns.barplot(x=importances, y=importances.index)\n",
    "plt.title(\"Feature Importance in Churn Prediction\")\n",
    "plt.xlabel(\"Importance Score\")\n",
    "plt.ylabel(\"Features\")\n",
    "plt.tight_layout()\n",
    "plt.show()\n"
   ]
  },
  {
   "cell_type": "markdown",
   "id": "923407b9",
   "metadata": {},
   "source": [
    "\n",
    "## 📌 Conclusion\n",
    "\n",
    "- The dataset was preprocessed by encoding categorical variables and removing unnecessary columns.\n",
    "- Exploratory analysis revealed some strong correlations between features and churn.\n",
    "- A Random Forest Classifier was trained and achieved good performance.\n",
    "- Feature importance shows that credit score, age, balance, and tenure are significant predictors.\n",
    "- This model can assist the bank in identifying customers at risk of leaving.\n"
   ]
  }
 ],
 "metadata": {},
 "nbformat": 4,
 "nbformat_minor": 5
}
